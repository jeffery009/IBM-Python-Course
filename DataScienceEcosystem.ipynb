{
 "cells": [
  {
   "cell_type": "markdown",
   "id": "6256e4a3-0e83-483a-819c-1a14bc985e1b",
   "metadata": {},
   "source": [
    "# Data Science Ecosystem"
   ]
  },
  {
   "cell_type": "markdown",
   "id": "6b219f26-d905-4a71-bcb9-25c3ddf2bde4",
   "metadata": {},
   "source": [
    "## In this notebook, Data Science Tools and Ecosystem are summarized"
   ]
  },
  {
   "cell_type": "markdown",
   "id": "6d349a76-d4ba-45ef-9551-fecbba0308ff",
   "metadata": {},
   "source": [
    "### Objectives:\n",
    "- List of popular languages\n",
    "- List of popular libraries\n",
    "- List of popular tools"
   ]
  },
  {
   "cell_type": "markdown",
   "id": "d4499a5b-8432-4b95-a229-d0ddaa26bc00",
   "metadata": {},
   "source": [
    "### Author\n",
    "Jeffery"
   ]
  },
  {
   "cell_type": "markdown",
   "id": "b2545a0c-78d8-449f-8ed9-630609fcf0fb",
   "metadata": {},
   "source": [
    "Some of the popular languages that Data Scientist use are:\n",
    "1. Python\n",
    "2. R\n",
    "3. SQL\n"
   ]
  },
  {
   "cell_type": "markdown",
   "id": "5f079d51-dc06-4b5d-93b6-5c0cb85d526c",
   "metadata": {},
   "source": [
    "Some the commonly used libraries used by Data Scientist include:\n",
    "1. Numpy\n",
    "2. Pandas\n",
    "3. Tensorflow\n",
    "4. Scipy"
   ]
  },
  {
   "cell_type": "markdown",
   "id": "93af7504-3beb-468b-9326-645201c66721",
   "metadata": {
    "tags": []
   },
   "source": [
    "| Data Science Tools|\n",
    "|---|\n",
    "|Jupyter Notebook|\n",
    "|R|\n",
    "|Julia|\n",
    "|Anacoda|\n",
    "|Apache Spark|\n"
   ]
  },
  {
   "cell_type": "markdown",
   "id": "644fa76f-401f-44f3-acac-28ed8ddb1f88",
   "metadata": {},
   "source": [
    "### Below are a few examples of evaluating arithmetic expressions in Python"
   ]
  },
  {
   "cell_type": "code",
   "execution_count": 4,
   "id": "3e134d25-0648-46b4-9209-c11ab9aa8bef",
   "metadata": {
    "tags": []
   },
   "outputs": [
    {
     "name": "stdout",
     "output_type": "stream",
     "text": [
      "17\n"
     ]
    }
   ],
   "source": [
    "a = 3\n",
    "b = 4\n",
    "c = 5\n",
    "print((a*b)+c)"
   ]
  },
  {
   "cell_type": "code",
   "execution_count": 7,
   "id": "74c67f3f-72a5-4e6e-bd1d-a018276d4000",
   "metadata": {
    "tags": []
   },
   "outputs": [
    {
     "data": {
      "text/plain": [
       "3.3333333333333335"
      ]
     },
     "execution_count": 7,
     "metadata": {},
     "output_type": "execute_result"
    }
   ],
   "source": [
    "def minstohour(min):\n",
    "    return min/60\n",
    "minstohour(200)\n"
   ]
  }
 ],
 "metadata": {
  "kernelspec": {
   "display_name": "Python",
   "language": "python",
   "name": "conda-env-python-py"
  },
  "language_info": {
   "codemirror_mode": {
    "name": "ipython",
    "version": 3
   },
   "file_extension": ".py",
   "mimetype": "text/x-python",
   "name": "python",
   "nbconvert_exporter": "python",
   "pygments_lexer": "ipython3",
   "version": "3.7.12"
  }
 },
 "nbformat": 4,
 "nbformat_minor": 5
}
